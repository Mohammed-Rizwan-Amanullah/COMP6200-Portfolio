{
 "cells": [
  {
   "cell_type": "markdown",
   "metadata": {},
   "source": [
    "# Portfolio -3\n",
    "\n",
    "### Analysis of CMU Book summary dataset.\n",
    "\n",
    "***Student ID → 46277404***\n",
    "\n",
    "***Student name → Mohammed Rizwan Amanullah***\n",
    "\n",
    "***Github repository link →*** [https://github.com/MQCOMP6200/portfolio-s1-2021-mohrizwan1993](https://github.com/MQCOMP6200/portfolio-s1-2021-mohrizwan1993)\n",
    "\n",
    "### Introduction\n",
    "\n",
    "Aim of this portfolio is to predict the genre of the book based on the book summary. The data files are available in the folder **/data/portfolio_1/booksummaries.txt**. \n",
    "\n",
    "At first, I performed **data cleaning**(removing empty spaces, remove backslash and apostrophe) and then **removed the stop words(common words like a, an, the, etc.)**. After that, performed **Lemmatization** to group the different version of the same word into one single word. \n",
    "\n",
    "Once data cleaning was performed, I did data data mapping for genre column. This portfolio involves feature extraction and performing five machine learning models. The model with the higest accuracy score is used to perform model inference. Below mentioned models are built as part of this portfolio\n",
    "\n",
    "- Logistic Regression\n",
    "- SVM(Linear)\n",
    "- SVM(kernal)\n",
    "- Gaussian Naive Bayes\n",
    "- Multinomial Naive Bayes\n"
   ]
  },
  {
   "cell_type": "markdown",
   "metadata": {},
   "source": [
    "## Loading the libraries"
   ]
  },
  {
   "cell_type": "code",
   "execution_count": 1,
   "metadata": {},
   "outputs": [],
   "source": [
    "import pandas as pd\n",
    "import numpy as np\n",
    "import seaborn as sns\n",
    "import matplotlib.pyplot as plt\n",
    "%matplotlib inline\n",
    "\n",
    "import re\n",
    "import nltk\n",
    "import warnings\n",
    "import time\n",
    "from sklearn.feature_extraction.text import CountVectorizer\n",
    "from sklearn.feature_extraction.text import TfidfVectorizer\n",
    "\n",
    "from sklearn import linear_model\n",
    "from sklearn.linear_model import LogisticRegression\n",
    "from sklearn import svm\n",
    "from sklearn.naive_bayes import GaussianNB\n",
    "from sklearn.naive_bayes import MultinomialNB\n",
    "\n",
    "from sklearn.model_selection import train_test_split\n",
    "from sklearn import linear_model\n",
    "from sklearn.metrics import r2_score\n",
    "from sklearn.metrics import confusion_matrix, accuracy_score, classification_report\n",
    "\n",
    "warnings.simplefilter('ignore')"
   ]
  },
  {
   "cell_type": "code",
   "execution_count": 2,
   "metadata": {
    "scrolled": true
   },
   "outputs": [],
   "source": [
    "# loading the dataset\n",
    "names = ['wid', 'fid', 'title', 'author', 'date', 'genres', 'summary']\n",
    "\n",
    "books = pd.read_csv(\"data/portfolio_3/booksummaries.txt\", sep=\"\\t\", header=None, names=names, keep_default_na=False)\n"
   ]
  },
  {
   "cell_type": "code",
   "execution_count": 3,
   "metadata": {},
   "outputs": [
    {
     "data": {
      "text/plain": [
       "(8954, 5)"
      ]
     },
     "execution_count": 3,
     "metadata": {},
     "output_type": "execute_result"
    }
   ],
   "source": [
    "target_genres = [\"Children's literature\",\n",
    "                 'Science Fiction',\n",
    "                 'Novel',\n",
    "                 'Fantasy',\n",
    "                 'Mystery']\n",
    "\n",
    "# create a Series of empty strings the same length as the list of books\n",
    "genre = pd.Series(np.repeat(\"\", books.shape[0]))\n",
    "# look for each target genre and set the corresponding entries in the genre series to the genre label\n",
    "for g in target_genres:\n",
    "    genre[books['genres'].str.contains(g)] = g\n",
    "\n",
    "# add this to the book dataframe and then select only those rows that have a genre label\n",
    "# drop some useless columns\n",
    "books['genre'] = genre\n",
    "genre_books = books[genre!=''].drop(['genres', 'fid', 'wid'], axis=1)\n",
    "\n",
    "genre_books.shape\n"
   ]
  },
  {
   "cell_type": "code",
   "execution_count": 4,
   "metadata": {},
   "outputs": [
    {
     "data": {
      "text/html": [
       "<div>\n",
       "<style scoped>\n",
       "    .dataframe tbody tr th:only-of-type {\n",
       "        vertical-align: middle;\n",
       "    }\n",
       "\n",
       "    .dataframe tbody tr th {\n",
       "        vertical-align: top;\n",
       "    }\n",
       "\n",
       "    .dataframe thead th {\n",
       "        text-align: right;\n",
       "    }\n",
       "</style>\n",
       "<table border=\"1\" class=\"dataframe\">\n",
       "  <thead>\n",
       "    <tr style=\"text-align: right;\">\n",
       "      <th></th>\n",
       "      <th>title</th>\n",
       "      <th>author</th>\n",
       "      <th>date</th>\n",
       "      <th>summary</th>\n",
       "    </tr>\n",
       "    <tr>\n",
       "      <th>genre</th>\n",
       "      <th></th>\n",
       "      <th></th>\n",
       "      <th></th>\n",
       "      <th></th>\n",
       "    </tr>\n",
       "  </thead>\n",
       "  <tbody>\n",
       "    <tr>\n",
       "      <th>Children's literature</th>\n",
       "      <td>1092</td>\n",
       "      <td>1092</td>\n",
       "      <td>1092</td>\n",
       "      <td>1092</td>\n",
       "    </tr>\n",
       "    <tr>\n",
       "      <th>Fantasy</th>\n",
       "      <td>2311</td>\n",
       "      <td>2311</td>\n",
       "      <td>2311</td>\n",
       "      <td>2311</td>\n",
       "    </tr>\n",
       "    <tr>\n",
       "      <th>Mystery</th>\n",
       "      <td>1396</td>\n",
       "      <td>1396</td>\n",
       "      <td>1396</td>\n",
       "      <td>1396</td>\n",
       "    </tr>\n",
       "    <tr>\n",
       "      <th>Novel</th>\n",
       "      <td>2258</td>\n",
       "      <td>2258</td>\n",
       "      <td>2258</td>\n",
       "      <td>2258</td>\n",
       "    </tr>\n",
       "    <tr>\n",
       "      <th>Science Fiction</th>\n",
       "      <td>1897</td>\n",
       "      <td>1897</td>\n",
       "      <td>1897</td>\n",
       "      <td>1897</td>\n",
       "    </tr>\n",
       "  </tbody>\n",
       "</table>\n",
       "</div>"
      ],
      "text/plain": [
       "                       title  author  date  summary\n",
       "genre                                              \n",
       "Children's literature   1092    1092  1092     1092\n",
       "Fantasy                 2311    2311  2311     2311\n",
       "Mystery                 1396    1396  1396     1396\n",
       "Novel                   2258    2258  2258     2258\n",
       "Science Fiction         1897    1897  1897     1897"
      ]
     },
     "execution_count": 4,
     "metadata": {},
     "output_type": "execute_result"
    }
   ],
   "source": [
    "# check how many books we have in each genre category\n",
    "genre_books.groupby('genre').count()\n"
   ]
  },
  {
   "cell_type": "code",
   "execution_count": 5,
   "metadata": {},
   "outputs": [
    {
     "data": {
      "text/html": [
       "<div>\n",
       "<style scoped>\n",
       "    .dataframe tbody tr th:only-of-type {\n",
       "        vertical-align: middle;\n",
       "    }\n",
       "\n",
       "    .dataframe tbody tr th {\n",
       "        vertical-align: top;\n",
       "    }\n",
       "\n",
       "    .dataframe thead th {\n",
       "        text-align: right;\n",
       "    }\n",
       "</style>\n",
       "<table border=\"1\" class=\"dataframe\">\n",
       "  <thead>\n",
       "    <tr style=\"text-align: right;\">\n",
       "      <th></th>\n",
       "      <th>title</th>\n",
       "      <th>author</th>\n",
       "      <th>date</th>\n",
       "      <th>summary</th>\n",
       "      <th>genre</th>\n",
       "    </tr>\n",
       "  </thead>\n",
       "  <tbody>\n",
       "    <tr>\n",
       "      <th>0</th>\n",
       "      <td>Animal Farm</td>\n",
       "      <td>George Orwell</td>\n",
       "      <td>1945-08-17</td>\n",
       "      <td>Old Major, the old boar on the Manor Farm, ca...</td>\n",
       "      <td>Children's literature</td>\n",
       "    </tr>\n",
       "    <tr>\n",
       "      <th>1</th>\n",
       "      <td>A Clockwork Orange</td>\n",
       "      <td>Anthony Burgess</td>\n",
       "      <td>1962</td>\n",
       "      <td>Alex, a teenager living in near-future Englan...</td>\n",
       "      <td>Novel</td>\n",
       "    </tr>\n",
       "    <tr>\n",
       "      <th>2</th>\n",
       "      <td>The Plague</td>\n",
       "      <td>Albert Camus</td>\n",
       "      <td>1947</td>\n",
       "      <td>The text of The Plague is divided into five p...</td>\n",
       "      <td>Novel</td>\n",
       "    </tr>\n",
       "    <tr>\n",
       "      <th>4</th>\n",
       "      <td>A Fire Upon the Deep</td>\n",
       "      <td>Vernor Vinge</td>\n",
       "      <td></td>\n",
       "      <td>The novel posits that space around the Milky ...</td>\n",
       "      <td>Fantasy</td>\n",
       "    </tr>\n",
       "    <tr>\n",
       "      <th>6</th>\n",
       "      <td>A Wizard of Earthsea</td>\n",
       "      <td>Ursula K. Le Guin</td>\n",
       "      <td>1968</td>\n",
       "      <td>Ged is a young boy on Gont, one of the larger...</td>\n",
       "      <td>Fantasy</td>\n",
       "    </tr>\n",
       "  </tbody>\n",
       "</table>\n",
       "</div>"
      ],
      "text/plain": [
       "                  title             author        date  \\\n",
       "0           Animal Farm      George Orwell  1945-08-17   \n",
       "1    A Clockwork Orange    Anthony Burgess        1962   \n",
       "2            The Plague       Albert Camus        1947   \n",
       "4  A Fire Upon the Deep       Vernor Vinge               \n",
       "6  A Wizard of Earthsea  Ursula K. Le Guin        1968   \n",
       "\n",
       "                                             summary                  genre  \n",
       "0   Old Major, the old boar on the Manor Farm, ca...  Children's literature  \n",
       "1   Alex, a teenager living in near-future Englan...                  Novel  \n",
       "2   The text of The Plague is divided into five p...                  Novel  \n",
       "4   The novel posits that space around the Milky ...                Fantasy  \n",
       "6   Ged is a young boy on Gont, one of the larger...                Fantasy  "
      ]
     },
     "execution_count": 5,
     "metadata": {},
     "output_type": "execute_result"
    }
   ],
   "source": [
    "#lets look at the first five rows of the dataset\n",
    "genre_books.head(5)"
   ]
  },
  {
   "cell_type": "code",
   "execution_count": 6,
   "metadata": {},
   "outputs": [
    {
     "data": {
      "text/plain": [
       "title      0\n",
       "author     0\n",
       "date       0\n",
       "summary    0\n",
       "genre      0\n",
       "dtype: int64"
      ]
     },
     "execution_count": 6,
     "metadata": {},
     "output_type": "execute_result"
    }
   ],
   "source": [
    "#there are no null values in the dataset.\n",
    "genre_books.isnull().sum()"
   ]
  },
  {
   "cell_type": "markdown",
   "metadata": {},
   "source": [
    "## Data cleaning\n",
    "\n",
    "***As a part of data preprocessing, I'll be performing*** \n",
    "\n",
    "- remove backslash- apostrophe\n",
    "- remove everything except alphabets\n",
    "- remove whitespaces\n",
    "- convert text to lowercase\n",
    "- remove stopwords\n",
    "- Lemmatization of words"
   ]
  },
  {
   "cell_type": "code",
   "execution_count": 7,
   "metadata": {},
   "outputs": [],
   "source": [
    "#removing text that are not of interest to our analysis\n",
    "def clean(summary):\n",
    "    summary = re.sub(\"\\'\", \"\", summary) # remove backslash-apostrophe \n",
    "    summary = re.sub(\"[^a-zA-Z]\",\" \", summary)  # remove everything except alphabets\n",
    "    summary = ' '.join(summary.split())  # remove whitespaces \n",
    "    summary = summary.lower() # convert text to lowercase \n",
    "    return summary\n",
    "\n",
    "genre_books.loc[:,'summary']=genre_books.loc[:,'summary'].apply(lambda x: clean(x))"
   ]
  },
  {
   "cell_type": "code",
   "execution_count": 8,
   "metadata": {},
   "outputs": [
    {
     "data": {
      "text/plain": [
       "0     old major the old boar on the manor farm calls...\n",
       "1     alex a teenager living in near future england ...\n",
       "2     the text of the plague is divided into five pa...\n",
       "4     the novel posits that space around the milky w...\n",
       "6     ged is a young boy on gont one of the larger i...\n",
       "8     living on mars deckard is acting as a consulta...\n",
       "9     beginning several months after the events in b...\n",
       "20    the story is told through the eyes of narrator...\n",
       "21    nine years after emperor paul muaddib walked i...\n",
       "23    the situation is desperate for the bene gesser...\n",
       "Name: summary, dtype: object"
      ]
     },
     "execution_count": 8,
     "metadata": {},
     "output_type": "execute_result"
    }
   ],
   "source": [
    "# summary after cleaning.\n",
    "genre_books['summary'].head(10)"
   ]
  },
  {
   "cell_type": "code",
   "execution_count": 9,
   "metadata": {},
   "outputs": [],
   "source": [
    "top_words = genre_books['summary']"
   ]
  },
  {
   "cell_type": "code",
   "execution_count": 10,
   "metadata": {},
   "outputs": [
    {
     "data": {
      "text/plain": [
       "CountVectorizer()"
      ]
     },
     "execution_count": 10,
     "metadata": {},
     "output_type": "execute_result"
    }
   ],
   "source": [
    "# making use of CountVectorizer to count the frequency of words\n",
    "vec = CountVectorizer()\n",
    "vec.fit(top_words)"
   ]
  },
  {
   "cell_type": "code",
   "execution_count": 11,
   "metadata": {},
   "outputs": [],
   "source": [
    "# transforming to matrix format\n",
    "vec_mat = vec.transform(top_words)"
   ]
  },
  {
   "cell_type": "code",
   "execution_count": 12,
   "metadata": {},
   "outputs": [],
   "source": [
    "#get the top fifty words\n",
    "df = pd.DataFrame(vec_mat.toarray(), columns= vec.get_feature_names())\n",
    "df_top50 = df.sum().sort_values(ascending=False)[:50]"
   ]
  },
  {
   "cell_type": "code",
   "execution_count": 13,
   "metadata": {},
   "outputs": [
    {
     "data": {
      "text/plain": [
       "Text(0.5, 1.0, 'Top 50 words before data processing')"
      ]
     },
     "execution_count": 13,
     "metadata": {},
     "output_type": "execute_result"
    },
    {
     "data": {
      "image/png": "[encoded data removed]",
      "text/plain": [
       "<Figure size 1080x1080 with 1 Axes>"
      ]
     },
     "metadata": {
      "needs_background": "light"
     },
     "output_type": "display_data"
    }
   ],
   "source": [
    "#plotting the top fifty words\n",
    "plt.figure(figsize=(15,15)) \n",
    "sns.barplot(df_top50.values, df_top50.index)\n",
    "plt.ylabel(\"top 50 words\", fontsize=16)\n",
    "plt.xlabel(\"Frequency\", fontsize=16)\n",
    "plt.title(\"Top 50 words before data processing\", fontsize=16)"
   ]
  },
  {
   "cell_type": "markdown",
   "metadata": {},
   "source": [
    "### Remove Stopwords\n",
    "Removing the very common **stop words** like **a, and, the**, etc. from the summary column. As it is not useful for classification."
   ]
  },
  {
   "cell_type": "code",
   "execution_count": 14,
   "metadata": {},
   "outputs": [
    {
     "name": "stderr",
     "output_type": "stream",
     "text": [
      "[nltk_data] Downloading package stopwords to\n",
      "[nltk_data]     /Users/mohammedrizwan/nltk_data...\n",
      "[nltk_data]   Package stopwords is already up-to-date!\n"
     ]
    }
   ],
   "source": [
    "#removing the stop words from the summary column\n",
    "nltk.download('stopwords')\n",
    "\n",
    "from nltk.corpus import stopwords\n",
    "stop_words = set(stopwords.words('english'))\n",
    "\n",
    "# function to remove stopwords\n",
    "def removestopwords(text):\n",
    "    no_stopword_text = [w for w in text.split() if not w in stop_words]\n",
    "    return ' '.join(no_stopword_text)\n",
    "\n",
    "genre_books['summary'] = genre_books['summary'].apply(lambda x: removestopwords(x))"
   ]
  },
  {
   "cell_type": "code",
   "execution_count": 15,
   "metadata": {},
   "outputs": [
    {
     "data": {
      "text/plain": [
       "0        old major old boar manor farm calls animals fa...\n",
       "1        alex teenager living near future england leads...\n",
       "2        text plague divided five parts town oran thous...\n",
       "4        novel posits space around milky way divided co...\n",
       "6        ged young boy gont one larger islands north ar...\n",
       "                               ...                        \n",
       "16525    beautiful creatures set fictional gatlin south...\n",
       "16526    returning home strange things starting occur s...\n",
       "16531                                             receptio\n",
       "16532    novel split seven parts first depicting afterm...\n",
       "16549    story starts former government agent frank com...\n",
       "Name: summary, Length: 8954, dtype: object"
      ]
     },
     "execution_count": 15,
     "metadata": {},
     "output_type": "execute_result"
    }
   ],
   "source": [
    "#summay after removing stop words\n",
    "genre_books['summary']"
   ]
  },
  {
   "cell_type": "markdown",
   "metadata": {},
   "source": [
    "## Lemmatization on summary\n",
    "Lemmatisation is a process of grouping words so that they can be analysed as single term. For example. the words like do/did/does will be grouped into one."
   ]
  },
  {
   "cell_type": "code",
   "execution_count": 16,
   "metadata": {},
   "outputs": [
    {
     "name": "stderr",
     "output_type": "stream",
     "text": [
      "[nltk_data] Downloading package wordnet to\n",
      "[nltk_data]     /Users/mohammedrizwan/nltk_data...\n",
      "[nltk_data]   Package wordnet is already up-to-date!\n"
     ]
    }
   ],
   "source": [
    "nltk.download('wordnet')\n",
    "from nltk.stem import WordNetLemmatizer\n",
    "\n",
    "lemma=WordNetLemmatizer()\n",
    "\n",
    "def lematizing(sentence):\n",
    "    stemSentence = \"\"\n",
    "    for word in sentence.split():\n",
    "        stem = lemma.lemmatize(word)\n",
    "        stemSentence += stem\n",
    "        stemSentence += \" \"\n",
    "    stemSentence = stemSentence.strip()\n",
    "    return stemSentence\n",
    "\n",
    "\n",
    "genre_books['summary'] = genre_books['summary'].apply(lambda x: lematizing(x))"
   ]
  },
  {
   "cell_type": "code",
   "execution_count": 17,
   "metadata": {},
   "outputs": [
    {
     "data": {
      "text/plain": [
       "0        old major old boar manor farm call animal farm...\n",
       "1        alex teenager living near future england lead ...\n",
       "2        text plague divided five part town oran thousa...\n",
       "4        novel posit space around milky way divided con...\n",
       "6        ged young boy gont one larger island north arc...\n",
       "                               ...                        \n",
       "16525    beautiful creature set fictional gatlin south ...\n",
       "16526    returning home strange thing starting occur sm...\n",
       "16531                                             receptio\n",
       "16532    novel split seven part first depicting afterma...\n",
       "16549    story start former government agent frank comp...\n",
       "Name: summary, Length: 8954, dtype: object"
      ]
     },
     "execution_count": 17,
     "metadata": {},
     "output_type": "execute_result"
    }
   ],
   "source": [
    "#summary after lemmatization\n",
    "genre_books['summary']"
   ]
  },
  {
   "cell_type": "code",
   "execution_count": 18,
   "metadata": {},
   "outputs": [],
   "source": [
    "# getting the top 50 words after all data cleaning operations\n",
    "top_clean_words = genre_books['summary']\n",
    "vec.fit(top_clean_words)\n",
    "vec_mat1 = vec.transform(top_clean_words)"
   ]
  },
  {
   "cell_type": "code",
   "execution_count": 19,
   "metadata": {},
   "outputs": [],
   "source": [
    "df_clean = pd.DataFrame(vec_mat1.toarray(), columns= vec.get_feature_names())\n",
    "df_clean_top50 = df_clean.sum().sort_values(ascending=False)[:50]"
   ]
  },
  {
   "cell_type": "code",
   "execution_count": 20,
   "metadata": {
    "scrolled": false
   },
   "outputs": [
    {
     "data": {
      "text/plain": [
       "Text(0.5, 1.0, 'Top 50 words after data processing')"
      ]
     },
     "execution_count": 20,
     "metadata": {},
     "output_type": "execute_result"
    },
    {
     "data": {
      "image/png": "[encoded data removed]",
      "text/plain": [
       "<Figure size 1080x1080 with 1 Axes>"
      ]
     },
     "metadata": {
      "needs_background": "light"
     },
     "output_type": "display_data"
    }
   ],
   "source": [
    "# plot to show the top fifty words after cleaning\n",
    "plt.figure(figsize=(15,15)) \n",
    "sns.barplot(df_clean_top50.values, df_clean_top50.index)\n",
    "plt.ylabel(\"top 50 words\", fontsize=16)\n",
    "plt.xlabel(\"Frequency\", fontsize=16)\n",
    "plt.title(\"Top 50 words after data processing\", fontsize=16)"
   ]
  },
  {
   "cell_type": "code",
   "execution_count": 21,
   "metadata": {
    "scrolled": true
   },
   "outputs": [
    {
     "data": {
      "text/plain": [
       "Fantasy                  2311\n",
       "Novel                    2258\n",
       "Science Fiction          1897\n",
       "Mystery                  1396\n",
       "Children's literature    1092\n",
       "Name: genre, dtype: int64"
      ]
     },
     "execution_count": 21,
     "metadata": {},
     "output_type": "execute_result"
    }
   ],
   "source": [
    "genre_books['genre'].value_counts()"
   ]
  },
  {
   "cell_type": "markdown",
   "metadata": {},
   "source": [
    "## Data mapping\n",
    "\n",
    "Data mapping is done to map each values in series with another value. Here, we are performing mapping on genre column."
   ]
  },
  {
   "cell_type": "code",
   "execution_count": 22,
   "metadata": {},
   "outputs": [],
   "source": [
    "# mapping genre column\n",
    "genre_books['genre'] = genre_books.genre.map({'Fantasy':0, 'Novel':1, 'Science Fiction':2, 'Mystery':3, \"Children's literature\":4})"
   ]
  },
  {
   "cell_type": "code",
   "execution_count": 23,
   "metadata": {},
   "outputs": [
    {
     "data": {
      "text/plain": [
       "0    2311\n",
       "1    2258\n",
       "2    1897\n",
       "3    1396\n",
       "4    1092\n",
       "Name: genre, dtype: int64"
      ]
     },
     "execution_count": 23,
     "metadata": {},
     "output_type": "execute_result"
    }
   ],
   "source": [
    "genre_books['genre'].value_counts()"
   ]
  },
  {
   "cell_type": "code",
   "execution_count": 24,
   "metadata": {},
   "outputs": [],
   "source": [
    "X = genre_books['summary']\n",
    "y = genre_books['genre'].astype(int)"
   ]
  },
  {
   "cell_type": "markdown",
   "metadata": {},
   "source": [
    "### TfidVectorizer\n",
    "TfidVectorizer is an algorith which is used to transform the text in a document to a meaningful representation of numbers. We can use that to perform prediction."
   ]
  },
  {
   "cell_type": "code",
   "execution_count": 25,
   "metadata": {},
   "outputs": [],
   "source": [
    "tfid_vec = TfidfVectorizer(max_features=20000)\n",
    "X_tfid = tfid_vec.fit_transform(X)"
   ]
  },
  {
   "cell_type": "code",
   "execution_count": 26,
   "metadata": {},
   "outputs": [],
   "source": [
    "#splitting the data into test and train. 80% for training and 20 percent for testing\n",
    "Xtrain, Xtest, ytrain, ytest = train_test_split(X_tfid, y, test_size=0.2, random_state=557)"
   ]
  },
  {
   "cell_type": "code",
   "execution_count": 27,
   "metadata": {
    "scrolled": true
   },
   "outputs": [
    {
     "name": "stdout",
     "output_type": "stream",
     "text": [
      "X train shape (7163, 20000)\n",
      "X test shape (1791, 20000)\n",
      "y train shape (7163,)\n",
      "y test shape (1791,)\n"
     ]
    }
   ],
   "source": [
    "print(\"X train shape\", Xtrain.shape)\n",
    "print(\"X test shape\", Xtest.shape)\n",
    "print(\"y train shape\", ytrain.shape)\n",
    "print(\"y test shape\", ytest.shape)"
   ]
  },
  {
   "cell_type": "markdown",
   "metadata": {},
   "source": [
    "# Machine learning models\n",
    "\n",
    "We will be building five machine learning models to predict the genre based on summary column. The one with the higest accuracy score will be used to perform model inference"
   ]
  },
  {
   "cell_type": "markdown",
   "metadata": {},
   "source": [
    "## Logistic Regression"
   ]
  },
  {
   "cell_type": "code",
   "execution_count": 28,
   "metadata": {},
   "outputs": [
    {
     "name": "stdout",
     "output_type": "stream",
     "text": [
      "Logistic regression time is 6.959456920623779\n"
     ]
    }
   ],
   "source": [
    "start_time = time.time()\n",
    "lr=LogisticRegression()\n",
    "lr.fit(Xtrain, ytrain)\n",
    "end_time = time.time()\n",
    "lr_time = end_time - start_time\n",
    "print(f\"Logistic regression time is {lr_time}\")"
   ]
  },
  {
   "cell_type": "code",
   "execution_count": 29,
   "metadata": {},
   "outputs": [
    {
     "name": "stdout",
     "output_type": "stream",
     "text": [
      "Accuracy score on test data is 0.7107761027359017\n",
      "Report...\n",
      "              precision    recall  f1-score   support\n",
      "\n",
      "           0       0.74      0.76      0.75       459\n",
      "           1       0.62      0.79      0.69       445\n",
      "           2       0.75      0.73      0.74       376\n",
      "           3       0.82      0.68      0.74       272\n",
      "           4       0.74      0.46      0.57       239\n",
      "\n",
      "    accuracy                           0.71      1791\n",
      "   macro avg       0.73      0.69      0.70      1791\n",
      "weighted avg       0.72      0.71      0.71      1791\n",
      "\n"
     ]
    }
   ],
   "source": [
    "#Accuracy on test data\n",
    "ypred = lr.predict(Xtest)\n",
    "lr_accuracy_test = accuracy_score(ytest, ypred)\n",
    "print(f\"Accuracy score on test data is {lr_accuracy_test}\")\n",
    "print(\"Report...\")\n",
    "print(classification_report(ytest, ypred))"
   ]
  },
  {
   "cell_type": "code",
   "execution_count": 30,
   "metadata": {},
   "outputs": [
    {
     "name": "stdout",
     "output_type": "stream",
     "text": [
      "Accuracy score on train data is 0.8856624319419237\n",
      "Report...\n",
      "              precision    recall  f1-score   support\n",
      "\n",
      "           0       0.90      0.90      0.90      1852\n",
      "           1       0.84      0.92      0.88      1813\n",
      "           2       0.88      0.91      0.89      1521\n",
      "           3       0.94      0.85      0.89      1124\n",
      "           4       0.93      0.78      0.85       853\n",
      "\n",
      "    accuracy                           0.89      7163\n",
      "   macro avg       0.90      0.87      0.88      7163\n",
      "weighted avg       0.89      0.89      0.89      7163\n",
      "\n"
     ]
    }
   ],
   "source": [
    "#Accuracy on train data\n",
    "ypred = lr.predict(Xtrain)\n",
    "lr_accuracy_train = accuracy_score(ytrain, ypred)\n",
    "print(f\"Accuracy score on train data is {lr_accuracy_train}\")\n",
    "print(\"Report...\")\n",
    "print(classification_report(ytrain, ypred))"
   ]
  },
  {
   "cell_type": "markdown",
   "metadata": {},
   "source": [
    "## SVM(Linear)"
   ]
  },
  {
   "cell_type": "code",
   "execution_count": 31,
   "metadata": {},
   "outputs": [
    {
     "name": "stdout",
     "output_type": "stream",
     "text": [
      "SVM linear time is 89.08458495140076\n"
     ]
    }
   ],
   "source": [
    "start_time = time.time()\n",
    "sv=svm.SVC(kernel='linear').fit(Xtrain, ytrain)\n",
    "end_time = time.time()\n",
    "svm_time = end_time - start_time\n",
    "print(f\"SVM linear time is {svm_time}\")"
   ]
  },
  {
   "cell_type": "code",
   "execution_count": 32,
   "metadata": {},
   "outputs": [
    {
     "name": "stdout",
     "output_type": "stream",
     "text": [
      "Accuracy score on test data is 0.7152428810720268\n",
      "Report...\n",
      "              precision    recall  f1-score   support\n",
      "\n",
      "           0       0.76      0.74      0.75       459\n",
      "           1       0.63      0.78      0.69       445\n",
      "           2       0.74      0.76      0.75       376\n",
      "           3       0.82      0.67      0.74       272\n",
      "           4       0.68      0.53      0.60       239\n",
      "\n",
      "    accuracy                           0.72      1791\n",
      "   macro avg       0.73      0.70      0.71      1791\n",
      "weighted avg       0.72      0.72      0.71      1791\n",
      "\n"
     ]
    }
   ],
   "source": [
    "#Accuracy on test data\n",
    "ypred = sv.predict(Xtest)\n",
    "sv_linear_accuracy_test = accuracy_score(ytest, ypred)\n",
    "print(f\"Accuracy score on test data is {sv_linear_accuracy_test}\")\n",
    "print(\"Report...\")\n",
    "print(classification_report(ytest, ypred))"
   ]
  },
  {
   "cell_type": "code",
   "execution_count": 33,
   "metadata": {},
   "outputs": [
    {
     "name": "stdout",
     "output_type": "stream",
     "text": [
      "Accuracy score on train data is 0.9396900739913444\n",
      "Report...\n",
      "              precision    recall  f1-score   support\n",
      "\n",
      "           0       0.95      0.94      0.95      1852\n",
      "           1       0.92      0.94      0.93      1813\n",
      "           2       0.91      0.96      0.94      1521\n",
      "           3       0.97      0.92      0.95      1124\n",
      "           4       0.96      0.91      0.94       853\n",
      "\n",
      "    accuracy                           0.94      7163\n",
      "   macro avg       0.94      0.94      0.94      7163\n",
      "weighted avg       0.94      0.94      0.94      7163\n",
      "\n"
     ]
    }
   ],
   "source": [
    "#Accuracy on train data\n",
    "ypred = sv.predict(Xtrain)\n",
    "sv_linear_accuracy_train = accuracy_score(ytrain, ypred)\n",
    "print(f\"Accuracy score on train data is {sv_linear_accuracy_train}\")\n",
    "print(\"Report...\")\n",
    "print(classification_report(ytrain, ypred))"
   ]
  },
  {
   "cell_type": "markdown",
   "metadata": {},
   "source": [
    "## SVM Kernal"
   ]
  },
  {
   "cell_type": "code",
   "execution_count": 34,
   "metadata": {},
   "outputs": [
    {
     "name": "stdout",
     "output_type": "stream",
     "text": [
      "SVM rbf time is 116.97084188461304\n"
     ]
    }
   ],
   "source": [
    "start_time = time.time()\n",
    "sv_rbf=svm.SVC(kernel='rbf',gamma=1).fit(Xtrain, ytrain)\n",
    "end_time = time.time()\n",
    "svm_time = end_time - start_time\n",
    "print(f\"SVM rbf time is {svm_time}\")"
   ]
  },
  {
   "cell_type": "code",
   "execution_count": 35,
   "metadata": {},
   "outputs": [
    {
     "name": "stdout",
     "output_type": "stream",
     "text": [
      "Accuracy score on test data is 0.7051926298157454\n",
      "Report...\n",
      "              precision    recall  f1-score   support\n",
      "\n",
      "           0       0.76      0.75      0.75       459\n",
      "           1       0.58      0.82      0.68       445\n",
      "           2       0.75      0.76      0.75       376\n",
      "           3       0.86      0.62      0.72       272\n",
      "           4       0.76      0.42      0.54       239\n",
      "\n",
      "    accuracy                           0.71      1791\n",
      "   macro avg       0.74      0.67      0.69      1791\n",
      "weighted avg       0.73      0.71      0.70      1791\n",
      "\n"
     ]
    }
   ],
   "source": [
    "#Accuracy on test data\n",
    "ypred = sv_rbf.predict(Xtest)\n",
    "sv_rbf_accuracy_test = accuracy_score(ytest, ypred)\n",
    "print(f\"Accuracy score on test data is {sv_rbf_accuracy_test}\")\n",
    "print(\"Report...\")\n",
    "print(classification_report(ytest, ypred))"
   ]
  },
  {
   "cell_type": "code",
   "execution_count": 36,
   "metadata": {},
   "outputs": [
    {
     "name": "stdout",
     "output_type": "stream",
     "text": [
      "Accuracy score on train data is 0.9801759039508586\n",
      "Report...\n",
      "              precision    recall  f1-score   support\n",
      "\n",
      "           0       0.99      0.98      0.98      1852\n",
      "           1       0.98      0.98      0.98      1813\n",
      "           2       0.96      0.99      0.97      1521\n",
      "           3       0.99      0.98      0.99      1124\n",
      "           4       1.00      0.96      0.98       853\n",
      "\n",
      "    accuracy                           0.98      7163\n",
      "   macro avg       0.98      0.98      0.98      7163\n",
      "weighted avg       0.98      0.98      0.98      7163\n",
      "\n"
     ]
    }
   ],
   "source": [
    "#Accuracy on train data\n",
    "ypred = sv_rbf.predict(Xtrain)\n",
    "sv_rbf_accuracy_train = accuracy_score(ytrain, ypred)\n",
    "print(f\"Accuracy score on train data is {sv_rbf_accuracy_train}\")\n",
    "print(\"Report...\")\n",
    "print(classification_report(ytrain, ypred))"
   ]
  },
  {
   "cell_type": "markdown",
   "metadata": {},
   "source": [
    "## Gaussian Naive Bayes"
   ]
  },
  {
   "cell_type": "code",
   "execution_count": 37,
   "metadata": {},
   "outputs": [
    {
     "name": "stdout",
     "output_type": "stream",
     "text": [
      "Gaussian naive bayes time is 9.047112226486206\n"
     ]
    }
   ],
   "source": [
    "start_time = time.time()\n",
    "gnb= GaussianNB()\n",
    "gnb.fit(Xtrain.toarray(), ytrain)\n",
    "end_time = time.time()\n",
    "gnb_time = end_time - start_time\n",
    "print(f\"Gaussian naive bayes time is {gnb_time}\")"
   ]
  },
  {
   "cell_type": "code",
   "execution_count": 38,
   "metadata": {},
   "outputs": [
    {
     "name": "stdout",
     "output_type": "stream",
     "text": [
      "Accuracy score on test data is 0.5002791736460078\n",
      "Report...\n",
      "              precision    recall  f1-score   support\n",
      "\n",
      "           0       0.57      0.68      0.62       459\n",
      "           1       0.44      0.53      0.48       445\n",
      "           2       0.55      0.50      0.53       376\n",
      "           3       0.46      0.40      0.43       272\n",
      "           4       0.42      0.22      0.29       239\n",
      "\n",
      "    accuracy                           0.50      1791\n",
      "   macro avg       0.49      0.47      0.47      1791\n",
      "weighted avg       0.50      0.50      0.49      1791\n",
      "\n"
     ]
    }
   ],
   "source": [
    "# Accuracy on test data\n",
    "ypred = gnb.predict(Xtest.toarray())\n",
    "gnb_accuracy_test = accuracy_score(ytest, ypred)\n",
    "print(f\"Accuracy score on test data is {gnb_accuracy_test}\")\n",
    "print(\"Report...\")\n",
    "print(classification_report(ytest, ypred))"
   ]
  },
  {
   "cell_type": "code",
   "execution_count": 39,
   "metadata": {},
   "outputs": [
    {
     "name": "stdout",
     "output_type": "stream",
     "text": [
      "Accuracy score on train data is 0.9420633812648331\n",
      "Report...\n",
      "              precision    recall  f1-score   support\n",
      "\n",
      "           0       1.00      0.90      0.95      1852\n",
      "           1       0.99      0.92      0.95      1813\n",
      "           2       0.94      0.96      0.95      1521\n",
      "           3       0.89      0.97      0.93      1124\n",
      "           4       0.83      1.00      0.91       853\n",
      "\n",
      "    accuracy                           0.94      7163\n",
      "   macro avg       0.93      0.95      0.94      7163\n",
      "weighted avg       0.95      0.94      0.94      7163\n",
      "\n"
     ]
    }
   ],
   "source": [
    "#Accuracy on train data\n",
    "ypred = gnb.predict(Xtrain.toarray())\n",
    "gnb_accuracy_train = accuracy_score(ytrain, ypred)\n",
    "print(f\"Accuracy score on train data is {gnb_accuracy_train}\")\n",
    "print(\"Report...\")\n",
    "print(classification_report(ytrain, ypred))"
   ]
  },
  {
   "cell_type": "markdown",
   "metadata": {},
   "source": [
    "## Multinomial Naive Bayes"
   ]
  },
  {
   "cell_type": "code",
   "execution_count": 40,
   "metadata": {},
   "outputs": [
    {
     "name": "stdout",
     "output_type": "stream",
     "text": [
      "Multinomial naive bayes time is 0.961712121963501\n"
     ]
    }
   ],
   "source": [
    "start_time = time.time()\n",
    "mnb=MultinomialNB(alpha=0.07)\n",
    "mnb.fit(Xtrain.toarray(), ytrain)\n",
    "end_time = time.time()\n",
    "gnb_time = end_time - start_time\n",
    "print(f\"Multinomial naive bayes time is {gnb_time}\")"
   ]
  },
  {
   "cell_type": "code",
   "execution_count": 41,
   "metadata": {},
   "outputs": [
    {
     "name": "stdout",
     "output_type": "stream",
     "text": [
      "Accuracy score on test data is 0.6901172529313233\n",
      "Report...\n",
      "              precision    recall  f1-score   support\n",
      "\n",
      "           0       0.78      0.74      0.76       459\n",
      "           1       0.60      0.72      0.65       445\n",
      "           2       0.72      0.76      0.73       376\n",
      "           3       0.72      0.67      0.69       272\n",
      "           4       0.64      0.47      0.54       239\n",
      "\n",
      "    accuracy                           0.69      1791\n",
      "   macro avg       0.69      0.67      0.68      1791\n",
      "weighted avg       0.69      0.69      0.69      1791\n",
      "\n"
     ]
    }
   ],
   "source": [
    "# Accuracy on test data\n",
    "ypred = mnb.predict(Xtest.toarray())\n",
    "mnb_accuracy_test = accuracy_score(ytest, ypred)\n",
    "print(f\"Accuracy score on test data is {mnb_accuracy_test}\")\n",
    "print(\"Report...\")\n",
    "print(classification_report(ytest, ypred))"
   ]
  },
  {
   "cell_type": "code",
   "execution_count": 42,
   "metadata": {},
   "outputs": [
    {
     "name": "stdout",
     "output_type": "stream",
     "text": [
      "Accuracy score on train data is 0.9128856624319419\n",
      "Report...\n",
      "              precision    recall  f1-score   support\n",
      "\n",
      "           0       0.94      0.90      0.92      1852\n",
      "           1       0.90      0.92      0.91      1813\n",
      "           2       0.86      0.93      0.90      1521\n",
      "           3       0.95      0.93      0.94      1124\n",
      "           4       0.94      0.89      0.91       853\n",
      "\n",
      "    accuracy                           0.91      7163\n",
      "   macro avg       0.92      0.91      0.91      7163\n",
      "weighted avg       0.91      0.91      0.91      7163\n",
      "\n"
     ]
    }
   ],
   "source": [
    "#Accuracy on train data\n",
    "ypred = mnb.predict(Xtrain.toarray())\n",
    "mnb_accuracy_train = accuracy_score(ytrain, ypred)\n",
    "print(f\"Accuracy score on train data is {mnb_accuracy_train}\")\n",
    "print(\"Report...\")\n",
    "print(classification_report(ytrain, ypred))"
   ]
  },
  {
   "cell_type": "code",
   "execution_count": 43,
   "metadata": {},
   "outputs": [
    {
     "data": {
      "text/plain": [
       "[71.08, 71.52, 70.52, 50.03, 69.01]"
      ]
     },
     "execution_count": 43,
     "metadata": {},
     "output_type": "execute_result"
    }
   ],
   "source": [
    "# creating a list having accuracy details of performed models. \n",
    "model = ['logistic', 'SVM linear(71.52)', 'SVM rbf', 'Gaussian Naive', 'Multinomial Naive']\n",
    "acc = [lr_accuracy_test, sv_linear_accuracy_test, sv_rbf_accuracy_test, gnb_accuracy_test, mnb_accuracy_test]\n",
    "length = len(acc)\n",
    "for i in range(length):\n",
    "    acc[i] = round(acc[i]*100, 2)\n",
    "acc"
   ]
  },
  {
   "cell_type": "code",
   "execution_count": 44,
   "metadata": {
    "scrolled": true
   },
   "outputs": [
    {
     "data": {
      "text/plain": [
       "Text(0.5, 1.0, 'Model with high accuracy')"
      ]
     },
     "execution_count": 44,
     "metadata": {},
     "output_type": "execute_result"
    },
    {
     "data": {
      "image/png": "[encoded data removed]",
      "text/plain": [
       "<Figure size 576x288 with 1 Axes>"
      ]
     },
     "metadata": {
      "needs_background": "light"
     },
     "output_type": "display_data"
    }
   ],
   "source": [
    "# plotting to show which model has the higest accuracy\n",
    "plt.figure(figsize=(8,4))\n",
    "sns.set_theme(style=\"white\")\n",
    "clr = ['grey' if (acc[i] < max(acc)) else 'red' for i in range(length) ]\n",
    "graph = sns.barplot(x=model, y=acc, palette=clr)\n",
    "plt.ylabel(\"Accuracy score\", fontsize=12)\n",
    "plt.xlabel(\"Machine learning model\", fontsize=12)\n",
    "plt.title(\"Model with high accuracy\", fontsize=16)"
   ]
  },
  {
   "cell_type": "markdown",
   "metadata": {},
   "source": [
    "# Model Inference\n",
    "\n",
    "As we got to know that the SVM linear model has the higest accuracy out of all models. lets use that model to perform model inference. "
   ]
  },
  {
   "cell_type": "code",
   "execution_count": 45,
   "metadata": {},
   "outputs": [],
   "source": [
    "# original genre of the text is Children's literature and Science fiction, Mystery and science fiction\n",
    "# we will be predicting the genre of the below text using svc linear model\n",
    "test = ['Mr Dursley was the director of a firm called Grunnings, which made drills. He was a big, beefy man with hardly any neck, although he did have a very large moustache. Mrs Dursley was thin and blonde and had nearly',\n",
    "        'Ged is a young boy on Gont, one of the',\n",
    "        'Alex, a teenager living in near-future Englan',\n",
    "        'Harriet Vane returns reluctantly to Oxford',\n",
    "        'Nine years after Emperor Paul Muaddib walked into the desert, blind, the ecological transformation of Dune has reached the',\n",
    "       ]\n",
    "test_vec = tfid_vec.transform(test)"
   ]
  },
  {
   "cell_type": "code",
   "execution_count": 46,
   "metadata": {},
   "outputs": [],
   "source": [
    "ypred = sv.predict(test_vec)"
   ]
  },
  {
   "cell_type": "code",
   "execution_count": 47,
   "metadata": {},
   "outputs": [],
   "source": [
    "actual_genre = ['Mystery', 'Childrens literature', 'Science fiction', 'Mystery', 'Science fiction', 'Mystery']\n",
    "predicted_genre = {0:'Fantacy',\n",
    "               1:'Novel',\n",
    "               2:'Science Fiction',\n",
    "               3: 'Mystery',\n",
    "               4:'Childrens literature'\n",
    "               }"
   ]
  },
  {
   "cell_type": "code",
   "execution_count": 48,
   "metadata": {},
   "outputs": [
    {
     "name": "stdout",
     "output_type": "stream",
     "text": [
      "Given text is :- 'Mr Dursley was the director of a firm called Grunnings, which made drills. He was a big, beefy man with hardly any neck, although he did have a very large moustache. Mrs Dursley was thin and blonde and had nearly' \n",
      "actual genre is Mystery\n",
      "predicted genre is Mystery\n",
      "-------------------------------\n",
      "Given text is :- 'Ged is a young boy on Gont, one of the' \n",
      "actual genre is Childrens literature\n",
      "predicted genre is Childrens literature\n",
      "-------------------------------\n",
      "Given text is :- 'Alex, a teenager living in near-future Englan' \n",
      "actual genre is Science fiction\n",
      "predicted genre is Science Fiction\n",
      "-------------------------------\n",
      "Given text is :- 'Harriet Vane returns reluctantly to Oxford' \n",
      "actual genre is Mystery\n",
      "predicted genre is Novel\n",
      "-------------------------------\n",
      "Given text is :- 'Nine years after Emperor Paul Muaddib walked into the desert, blind, the ecological transformation of Dune has reached the' \n",
      "actual genre is Science fiction\n",
      "predicted genre is Science Fiction\n",
      "-------------------------------\n"
     ]
    }
   ],
   "source": [
    "a=0\n",
    "for i in ypred:\n",
    "    print(f\"Given text is :- '{test[a]}' \")\n",
    "    print(f\"actual genre is {actual_genre[a]}\")\n",
    "    print(f\"predicted genre is {predicted_genre[i]}\")\n",
    "    a +=1\n",
    "    print(\"-------------------------------\")"
   ]
  },
  {
   "cell_type": "markdown",
   "metadata": {},
   "source": [
    "# Conclusion\n",
    "\n",
    "In this portfolio, we did data cleaning to remove words that are not required for analysis and removed words that would have affected the accuracy of the machine learning model prediction. After building **five models**, we found **SVC linear model** provided high accuracy score(**71.52**) among the considered models. \n",
    "\n",
    "We can further improve the model accuracy by processing the summary column. For example, we can do stemming, which is a process of producing morphological variants of root/base words."
   ]
  }
 ],
 "metadata": {
  "kernelspec": {
   "display_name": "Python 3",
   "language": "python",
   "name": "python3"
  },
  "language_info": {
   "codemirror_mode": {
    "name": "ipython",
    "version": 3
   },
   "file_extension": ".py",
   "mimetype": "text/x-python",
   "name": "python",
   "nbconvert_exporter": "python",
   "pygments_lexer": "ipython3",
   "version": "3.7.9"
  }
 },
 "nbformat": 4,
 "nbformat_minor": 2
}
